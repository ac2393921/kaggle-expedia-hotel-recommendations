{
 "cells": [
  {
   "cell_type": "code",
   "execution_count": 10,
   "id": "f4938c36-8369-4eb2-a907-dd1c6b5d02eb",
   "metadata": {
    "tags": []
   },
   "outputs": [],
   "source": [
    "import pandas as pd\n",
    "import numpy as np\n",
    "from typing import List"
   ]
  },
  {
   "cell_type": "code",
   "execution_count": 11,
   "id": "fc846b98-29da-4749-9ef7-44e194d826ee",
   "metadata": {
    "tags": []
   },
   "outputs": [],
   "source": [
    "traincols = ['date_time', 'site_name', 'posa_continent', 'user_location_country',\n",
    "             'user_location_region', 'user_location_city', 'orig_destination_distance',\n",
    "             'user_id', 'is_mobile', 'is_package', 'channel', 'srch_ci', 'srch_co',\n",
    "             'srch_adults_cnt', 'srch_children_cnt', 'srch_rm_cnt', 'srch_destination_id',\n",
    "             'srch_destination_type_id', 'is_booking', 'cnt', 'hotel_continent',\n",
    "             'hotel_country', 'hotel_market', 'hotel_cluster']\n",
    "\n",
    "testcols = ['id', 'date_time', 'site_name', 'posa_continent', 'user_location_country',\n",
    "            'user_location_region', 'user_location_city', 'orig_destination_distance',\n",
    "            'user_id', 'is_mobile', 'is_package', 'channel', 'srch_ci', 'srch_co',\n",
    "            'srch_adults_cnt', 'srch_children_cnt', 'srch_rm_cnt', 'srch_destination_id',\n",
    "            'srch_destination_type_id', 'hotel_continent', 'hotel_country', 'hotel_market']"
   ]
  },
  {
   "cell_type": "code",
   "execution_count": 12,
   "id": "454943d8-5eb9-4763-8ef2-fdae8753e2de",
   "metadata": {
    "tags": []
   },
   "outputs": [],
   "source": [
    "def read_csv(filename: str, cols: List[str], nrows: int = None) -> pd.DataFrame:\n",
    "  datecols = ['date_time', 'srch_ci', 'srch_co']\n",
    "  dateparser = lambda x: pd.to_datetime(x, format='%Y-%m-%d %H:%M:%S', errors='coerce')\n",
    "\n",
    "  dtypes = {\n",
    "        'id': np.uint32,\n",
    "        'site_name': np.uint8,\n",
    "        'posa_continent': np.uint8,\n",
    "        'user_location_country': np.uint16,\n",
    "        'user_location_region': np.uint16,\n",
    "        'user_location_city': np.uint16,\n",
    "        'orig_destination_distance': np.float32,\n",
    "        'user_id': np.uint32,\n",
    "        'is_mobile': bool,\n",
    "        'is_package': bool,\n",
    "        'channel': np.uint8,\n",
    "        'srch_adults_cnt': np.uint8,\n",
    "        'srch_children_cnt': np.uint8,\n",
    "        'srch_rm_cnt': np.uint8,\n",
    "        'srch_destination_id': np.uint32,\n",
    "        'srch_destination_type_id': np.uint8,\n",
    "        'is_booking': bool,\n",
    "        'cnt': np.uint64,\n",
    "        'hotel_continent': np.uint8,\n",
    "        'hotel_country': np.uint16,\n",
    "        'hotel_market': np.uint16,\n",
    "        'hotel_cluster': np.uint8,\n",
    "    }\n",
    "\n",
    "  df = pd.read_csv(\n",
    "        filename,\n",
    "        nrows=nrows,\n",
    "        usecols=cols,\n",
    "        dtype=dtypes, # dtype can also specify datatypes for columns that do not excist in the particular datafile\n",
    "        parse_dates=[col for col in datecols if col in cols], # columns here must be also in usecols\n",
    "        date_parser=dateparser,\n",
    "  )\n",
    "  \n",
    "  return df"
   ]
  },
  {
   "cell_type": "code",
   "execution_count": 14,
   "id": "454aa1ae-d6e1-439b-8f11-7da5fd7c70e0",
   "metadata": {
    "tags": []
   },
   "outputs": [],
   "source": [
    "destinations = pd.read_csv(\"../data/destinations.csv\")\n",
    "test = read_csv(\"../data/test.csv\", cols=testcols)\n",
    "train = read_csv(\"../data/train.csv\", cols=traincols, nrows=10000000)"
   ]
  },
  {
   "cell_type": "code",
   "execution_count": 15,
   "id": "6ac6a1b9-0806-417d-a76f-be8bee4dbc3d",
   "metadata": {
    "tags": []
   },
   "outputs": [
    {
     "name": "stdout",
     "output_type": "stream",
     "text": [
      "<class 'pandas.core.frame.DataFrame'>\n",
      "RangeIndex: 10000000 entries, 0 to 9999999\n",
      "Data columns (total 24 columns):\n",
      " #   Column                     Dtype         \n",
      "---  ------                     -----         \n",
      " 0   date_time                  datetime64[ns]\n",
      " 1   site_name                  uint8         \n",
      " 2   posa_continent             uint8         \n",
      " 3   user_location_country      uint16        \n",
      " 4   user_location_region       uint16        \n",
      " 5   user_location_city         uint16        \n",
      " 6   orig_destination_distance  float32       \n",
      " 7   user_id                    uint32        \n",
      " 8   is_mobile                  bool          \n",
      " 9   is_package                 bool          \n",
      " 10  channel                    uint8         \n",
      " 11  srch_ci                    datetime64[ns]\n",
      " 12  srch_co                    datetime64[ns]\n",
      " 13  srch_adults_cnt            uint8         \n",
      " 14  srch_children_cnt          uint8         \n",
      " 15  srch_rm_cnt                uint8         \n",
      " 16  srch_destination_id        uint32        \n",
      " 17  srch_destination_type_id   uint8         \n",
      " 18  is_booking                 bool          \n",
      " 19  cnt                        uint64        \n",
      " 20  hotel_continent            uint8         \n",
      " 21  hotel_country              uint16        \n",
      " 22  hotel_market               uint16        \n",
      " 23  hotel_cluster              uint8         \n",
      "dtypes: bool(3), datetime64[ns](3), float32(1), uint16(5), uint32(2), uint64(1), uint8(9)\n",
      "memory usage: 629.4 MB\n"
     ]
    }
   ],
   "source": [
    "train.info()"
   ]
  },
  {
   "cell_type": "code",
   "execution_count": 16,
   "id": "189a3b29-79a8-4c18-aa70-a41407193247",
   "metadata": {},
   "outputs": [],
   "source": [
    "destinations.to_pickle('../data/destinations.pkl')\n",
    "test.to_pickle('../data/test.pkl')\n",
    "train.to_pickle('../data/train_10m.pkl')"
   ]
  },
  {
   "cell_type": "code",
   "execution_count": null,
   "id": "d912b2fb-758c-49fd-877a-31013c31f0f9",
   "metadata": {},
   "outputs": [],
   "source": []
  }
 ],
 "metadata": {
  "kernelspec": {
   "display_name": "Python 3 (ipykernel)",
   "language": "python",
   "name": "python3"
  },
  "language_info": {
   "codemirror_mode": {
    "name": "ipython",
    "version": 3
   },
   "file_extension": ".py",
   "mimetype": "text/x-python",
   "name": "python",
   "nbconvert_exporter": "python",
   "pygments_lexer": "ipython3",
   "version": "3.8.13"
  }
 },
 "nbformat": 4,
 "nbformat_minor": 5
}
